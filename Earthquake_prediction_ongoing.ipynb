{
 "cells": [
  {
   "cell_type": "code",
   "execution_count": 180,
   "metadata": {},
   "outputs": [],
   "source": [
    "import pandas as pd\n",
    "import numpy as np\n",
    "import matplotlib.pyplot as plt\n",
    "import seaborn as sns\n",
    "from sklearn.model_selection import train_test_split, cross_val_score\n",
    "from sklearn.linear_model import LinearRegression as lm\n",
    "from sklearn.pipeline import Pipeline\n",
    "from sklearn.preprocessing import PolynomialFeatures\n",
    "from sklearn import metrics\n",
    "\n",
    "pd.set_option('display.float_format', lambda x: '%.10f' % x)\n",
    "\n",
    "%matplotlib inline"
   ]
  },
  {
   "cell_type": "code",
   "execution_count": 2,
   "metadata": {},
   "outputs": [],
   "source": [
    "import os\n",
    "folder = os.getcwd()"
   ]
  },
  {
   "cell_type": "code",
   "execution_count": 3,
   "metadata": {},
   "outputs": [],
   "source": [
    "%matplotlib inline"
   ]
  },
  {
   "cell_type": "code",
   "execution_count": 95,
   "metadata": {},
   "outputs": [],
   "source": [
    "data = pd.read_csv('train.csv', nrows = 300000000)\n",
    "%%timeit"
   ]
  },
  {
   "cell_type": "code",
   "execution_count": null,
   "metadata": {},
   "outputs": [],
   "source": [
    "#data2 = pd.read_csv('train.csv', nrows = 300000000)\n",
    "#data3"
   ]
  },
  {
   "cell_type": "code",
   "execution_count": 97,
   "metadata": {},
   "outputs": [],
   "source": [
    "#data = pd.read_csv('train.csv')\n",
    "#%timeit"
   ]
  },
  {
   "cell_type": "code",
   "execution_count": 98,
   "metadata": {},
   "outputs": [
    {
     "data": {
      "text/html": [
       "<div>\n",
       "<style scoped>\n",
       "    .dataframe tbody tr th:only-of-type {\n",
       "        vertical-align: middle;\n",
       "    }\n",
       "\n",
       "    .dataframe tbody tr th {\n",
       "        vertical-align: top;\n",
       "    }\n",
       "\n",
       "    .dataframe thead th {\n",
       "        text-align: right;\n",
       "    }\n",
       "</style>\n",
       "<table border=\"1\" class=\"dataframe\">\n",
       "  <thead>\n",
       "    <tr style=\"text-align: right;\">\n",
       "      <th></th>\n",
       "      <th>acoustic_data</th>\n",
       "      <th>time_to_failure</th>\n",
       "    </tr>\n",
       "  </thead>\n",
       "  <tbody>\n",
       "    <tr>\n",
       "      <th>0</th>\n",
       "      <td>12</td>\n",
       "      <td>1.4690999832</td>\n",
       "    </tr>\n",
       "    <tr>\n",
       "      <th>1</th>\n",
       "      <td>6</td>\n",
       "      <td>1.4690999821</td>\n",
       "    </tr>\n",
       "    <tr>\n",
       "      <th>2</th>\n",
       "      <td>8</td>\n",
       "      <td>1.4690999810</td>\n",
       "    </tr>\n",
       "    <tr>\n",
       "      <th>3</th>\n",
       "      <td>5</td>\n",
       "      <td>1.4690999799</td>\n",
       "    </tr>\n",
       "    <tr>\n",
       "      <th>4</th>\n",
       "      <td>8</td>\n",
       "      <td>1.4690999788</td>\n",
       "    </tr>\n",
       "  </tbody>\n",
       "</table>\n",
       "</div>"
      ],
      "text/plain": [
       "   acoustic_data  time_to_failure\n",
       "0             12     1.4690999832\n",
       "1              6     1.4690999821\n",
       "2              8     1.4690999810\n",
       "3              5     1.4690999799\n",
       "4              8     1.4690999788"
      ]
     },
     "execution_count": 98,
     "metadata": {},
     "output_type": "execute_result"
    }
   ],
   "source": [
    "data.head()"
   ]
  },
  {
   "cell_type": "code",
   "execution_count": 99,
   "metadata": {},
   "outputs": [
    {
     "data": {
      "text/plain": [
       "(300000000, 2)"
      ]
     },
     "execution_count": 99,
     "metadata": {},
     "output_type": "execute_result"
    }
   ],
   "source": [
    "data.shape"
   ]
  },
  {
   "cell_type": "code",
   "execution_count": null,
   "metadata": {},
   "outputs": [],
   "source": [
    "#data2"
   ]
  },
  {
   "cell_type": "code",
   "execution_count": 291,
   "metadata": {},
   "outputs": [],
   "source": [
    "data_sparse = data.iloc[::100]"
   ]
  },
  {
   "cell_type": "code",
   "execution_count": 292,
   "metadata": {},
   "outputs": [
    {
     "data": {
      "text/plain": [
       "(3000000, 2)"
      ]
     },
     "execution_count": 292,
     "metadata": {},
     "output_type": "execute_result"
    }
   ],
   "source": [
    "data_sparse.shape"
   ]
  },
  {
   "cell_type": "code",
   "execution_count": 293,
   "metadata": {},
   "outputs": [
    {
     "data": {
      "text/plain": [
       "acoustic_data     3476.0000000000\n",
       "time_to_failure     16.1073999840\n",
       "dtype: float64"
      ]
     },
     "execution_count": 293,
     "metadata": {},
     "output_type": "execute_result"
    }
   ],
   "source": [
    "data_sparse.max()"
   ]
  },
  {
   "cell_type": "code",
   "execution_count": 294,
   "metadata": {},
   "outputs": [
    {
     "data": {
      "text/plain": [
       "(5000000, 6000000)"
      ]
     },
     "execution_count": 294,
     "metadata": {},
     "output_type": "execute_result"
    },
    {
     "data": {
      "image/png": "[encoded data removed]",
      "text/plain": [
       "<Figure size 432x288 with 1 Axes>"
      ]
     },
     "metadata": {
      "needs_background": "light"
     },
     "output_type": "display_data"
    }
   ],
   "source": [
    "#plt.figure(figsize = (8,3))\n",
    "plt.plot(data_sparse.acoustic_data/data_sparse.acoustic_data.max())\n",
    "plt.plot(data_sparse.time_to_failure/data_sparse.time_to_failure.max())\n",
    "plt.xlim(5000000, 6000000)"
   ]
  },
  {
   "cell_type": "code",
   "execution_count": 296,
   "metadata": {},
   "outputs": [
    {
     "data": {
      "text/plain": [
       "<matplotlib.axes._subplots.AxesSubplot at 0x2608027c278>"
      ]
     },
     "execution_count": 296,
     "metadata": {},
     "output_type": "execute_result"
    },
    {
     "data": {
      "image/png": "[encoded data removed]",
      "text/plain": [
       "<Figure size 1080x576 with 1 Axes>"
      ]
     },
     "metadata": {
      "needs_background": "light"
     },
     "output_type": "display_data"
    }
   ],
   "source": [
    "(data_sparse/data_sparse.max()).plot(figsize=(15, 8))"
   ]
  },
  {
   "cell_type": "markdown",
   "metadata": {},
   "source": [
    "#### Find indexes of Ground Zeros"
   ]
  },
  {
   "cell_type": "code",
   "execution_count": 297,
   "metadata": {},
   "outputs": [
    {
     "data": {
      "text/html": [
       "<div>\n",
       "<style scoped>\n",
       "    .dataframe tbody tr th:only-of-type {\n",
       "        vertical-align: middle;\n",
       "    }\n",
       "\n",
       "    .dataframe tbody tr th {\n",
       "        vertical-align: top;\n",
       "    }\n",
       "\n",
       "    .dataframe thead th {\n",
       "        text-align: right;\n",
       "    }\n",
       "</style>\n",
       "<table border=\"1\" class=\"dataframe\">\n",
       "  <thead>\n",
       "    <tr style=\"text-align: right;\">\n",
       "      <th></th>\n",
       "      <th>0</th>\n",
       "    </tr>\n",
       "  </thead>\n",
       "  <tbody>\n",
       "    <tr>\n",
       "      <th>0</th>\n",
       "      <td>5656600</td>\n",
       "    </tr>\n",
       "    <tr>\n",
       "      <th>1</th>\n",
       "      <td>50085900</td>\n",
       "    </tr>\n",
       "    <tr>\n",
       "      <th>2</th>\n",
       "      <td>104677400</td>\n",
       "    </tr>\n",
       "    <tr>\n",
       "      <th>3</th>\n",
       "      <td>138772500</td>\n",
       "    </tr>\n",
       "    <tr>\n",
       "      <th>4</th>\n",
       "      <td>187641900</td>\n",
       "    </tr>\n",
       "    <tr>\n",
       "      <th>5</th>\n",
       "      <td>218652700</td>\n",
       "    </tr>\n",
       "    <tr>\n",
       "      <th>6</th>\n",
       "      <td>245829600</td>\n",
       "    </tr>\n",
       "  </tbody>\n",
       "</table>\n",
       "</div>"
      ],
      "text/plain": [
       "           0\n",
       "0    5656600\n",
       "1   50085900\n",
       "2  104677400\n",
       "3  138772500\n",
       "4  187641900\n",
       "5  218652700\n",
       "6  245829600"
      ]
     },
     "execution_count": 297,
     "metadata": {},
     "output_type": "execute_result"
    }
   ],
   "source": [
    "idx_earthquake = data_sparse[data_sparse.time_to_failure.diff()>0].index\n",
    "len(idx_eq)\n",
    "idx_earthquake_df = pd.DataFrame(data = idx_earthquake)\n",
    "idx_earthquake_df"
   ]
  },
  {
   "cell_type": "markdown",
   "metadata": {},
   "source": [
    "#### Calculate length of the segments"
   ]
  },
  {
   "cell_type": "code",
   "execution_count": 298,
   "metadata": {},
   "outputs": [
    {
     "data": {
      "text/plain": [
       "[5656600, 44429300, 54591500, 34095100, 48869400, 31010800, 27176900]"
      ]
     },
     "execution_count": 298,
     "metadata": {},
     "output_type": "execute_result"
    }
   ],
   "source": [
    "segments_len = [idx_earthquake[0]]\n",
    "for i in range(len(idx_earthquake) - 1): \n",
    "    seg_len = idx_earthquake[i+1] - idx_earthquake[i]\n",
    "    segments_len.append(seg_len)\n",
    "segments_len  "
   ]
  },
  {
   "cell_type": "markdown",
   "metadata": {},
   "source": [
    "#### Sliding Window"
   ]
  },
  {
   "cell_type": "code",
   "execution_count": 299,
   "metadata": {},
   "outputs": [
    {
     "data": {
      "text/html": [
       "<div>\n",
       "<style scoped>\n",
       "    .dataframe tbody tr th:only-of-type {\n",
       "        vertical-align: middle;\n",
       "    }\n",
       "\n",
       "    .dataframe tbody tr th {\n",
       "        vertical-align: top;\n",
       "    }\n",
       "\n",
       "    .dataframe thead th {\n",
       "        text-align: right;\n",
       "    }\n",
       "</style>\n",
       "<table border=\"1\" class=\"dataframe\">\n",
       "  <thead>\n",
       "    <tr style=\"text-align: right;\">\n",
       "      <th></th>\n",
       "      <th>0</th>\n",
       "    </tr>\n",
       "  </thead>\n",
       "  <tbody>\n",
       "    <tr>\n",
       "      <th>0</th>\n",
       "      <td>5656600</td>\n",
       "    </tr>\n",
       "    <tr>\n",
       "      <th>1</th>\n",
       "      <td>50085900</td>\n",
       "    </tr>\n",
       "    <tr>\n",
       "      <th>2</th>\n",
       "      <td>104677400</td>\n",
       "    </tr>\n",
       "    <tr>\n",
       "      <th>3</th>\n",
       "      <td>138772500</td>\n",
       "    </tr>\n",
       "    <tr>\n",
       "      <th>4</th>\n",
       "      <td>187641900</td>\n",
       "    </tr>\n",
       "    <tr>\n",
       "      <th>5</th>\n",
       "      <td>218652700</td>\n",
       "    </tr>\n",
       "    <tr>\n",
       "      <th>6</th>\n",
       "      <td>245829600</td>\n",
       "    </tr>\n",
       "  </tbody>\n",
       "</table>\n",
       "</div>"
      ],
      "text/plain": [
       "           0\n",
       "0    5656600\n",
       "1   50085900\n",
       "2  104677400\n",
       "3  138772500\n",
       "4  187641900\n",
       "5  218652700\n",
       "6  245829600"
      ]
     },
     "execution_count": 299,
     "metadata": {},
     "output_type": "execute_result"
    }
   ],
   "source": [
    "idx_earthquake_df"
   ]
  },
  {
   "cell_type": "code",
   "execution_count": 300,
   "metadata": {},
   "outputs": [
    {
     "data": {
      "text/plain": [
       "[5656600, 44429300, 54591500, 34095100, 48869400, 31010800, 27176900]"
      ]
     },
     "execution_count": 300,
     "metadata": {},
     "output_type": "execute_result"
    }
   ],
   "source": [
    "# Sliding window definitions: \n",
    "win_length = 150\n",
    "segments_len"
   ]
  },
  {
   "cell_type": "code",
   "execution_count": 301,
   "metadata": {},
   "outputs": [],
   "source": [
    "segment_num = 1"
   ]
  },
  {
   "cell_type": "code",
   "execution_count": 302,
   "metadata": {},
   "outputs": [
    {
     "data": {
      "text/plain": [
       "50085900"
      ]
     },
     "execution_count": 302,
     "metadata": {},
     "output_type": "execute_result"
    }
   ],
   "source": [
    "idx_earthquake_df.iloc[segment_num, 0]"
   ]
  },
  {
   "cell_type": "code",
   "execution_count": 303,
   "metadata": {},
   "outputs": [
    {
     "data": {
      "text/plain": [
       "50085900"
      ]
     },
     "execution_count": 303,
     "metadata": {},
     "output_type": "execute_result"
    }
   ],
   "source": [
    "idx_earthquake_df.iloc[segment_num, 0]"
   ]
  },
  {
   "cell_type": "code",
   "execution_count": 304,
   "metadata": {},
   "outputs": [
    {
     "data": {
      "text/plain": [
       "44429300"
      ]
     },
     "execution_count": 304,
     "metadata": {},
     "output_type": "execute_result"
    }
   ],
   "source": [
    "segments_len[1]"
   ]
  },
  {
   "cell_type": "code",
   "execution_count": 305,
   "metadata": {},
   "outputs": [
    {
     "data": {
      "text/html": [
       "<div>\n",
       "<style scoped>\n",
       "    .dataframe tbody tr th:only-of-type {\n",
       "        vertical-align: middle;\n",
       "    }\n",
       "\n",
       "    .dataframe tbody tr th {\n",
       "        vertical-align: top;\n",
       "    }\n",
       "\n",
       "    .dataframe thead th {\n",
       "        text-align: right;\n",
       "    }\n",
       "</style>\n",
       "<table border=\"1\" class=\"dataframe\">\n",
       "  <thead>\n",
       "    <tr style=\"text-align: right;\">\n",
       "      <th></th>\n",
       "      <th>acoustic_data</th>\n",
       "      <th>time_to_failure</th>\n",
       "    </tr>\n",
       "  </thead>\n",
       "  <tbody>\n",
       "    <tr>\n",
       "      <th>0</th>\n",
       "      <td>12</td>\n",
       "      <td>1.4690999832</td>\n",
       "    </tr>\n",
       "    <tr>\n",
       "      <th>100</th>\n",
       "      <td>-1</td>\n",
       "      <td>1.4690998732</td>\n",
       "    </tr>\n",
       "    <tr>\n",
       "      <th>200</th>\n",
       "      <td>7</td>\n",
       "      <td>1.4690997632</td>\n",
       "    </tr>\n",
       "    <tr>\n",
       "      <th>300</th>\n",
       "      <td>-4</td>\n",
       "      <td>1.4690996532</td>\n",
       "    </tr>\n",
       "    <tr>\n",
       "      <th>400</th>\n",
       "      <td>9</td>\n",
       "      <td>1.4690995432</td>\n",
       "    </tr>\n",
       "  </tbody>\n",
       "</table>\n",
       "</div>"
      ],
      "text/plain": [
       "     acoustic_data  time_to_failure\n",
       "0               12     1.4690999832\n",
       "100             -1     1.4690998732\n",
       "200              7     1.4690997632\n",
       "300             -4     1.4690996532\n",
       "400              9     1.4690995432"
      ]
     },
     "execution_count": 305,
     "metadata": {},
     "output_type": "execute_result"
    }
   ],
   "source": [
    "data_sparse.head()"
   ]
  },
  {
   "cell_type": "code",
   "execution_count": 306,
   "metadata": {},
   "outputs": [
    {
     "data": {
      "text/plain": [
       "11.540799958"
      ]
     },
     "execution_count": 306,
     "metadata": {},
     "output_type": "execute_result"
    }
   ],
   "source": [
    "data_sparse.time_to_failure.loc[idx_earthquake_df.iloc[0, 0]]"
   ]
  },
  {
   "cell_type": "code",
   "execution_count": 307,
   "metadata": {},
   "outputs": [
    {
     "data": {
      "text/plain": [
       "1.4680989888"
      ]
     },
     "execution_count": 307,
     "metadata": {},
     "output_type": "execute_result"
    }
   ],
   "source": [
    "data_sparse.time_to_failure.iloc[50]"
   ]
  },
  {
   "cell_type": "code",
   "execution_count": null,
   "metadata": {},
   "outputs": [],
   "source": [
    "def sliding_win(data_sparse, idx_earthquake_df, segment_num, segments_len, win_length):\n",
    "    \n",
    "    # choose the segment\n",
    "    signal_length = segments_len[segment_num]\n",
    "    \n",
    "    # sliding window\n",
    "    for i in range(signal_length, -1):\n",
    "        # start from the ground zero\n",
    "        \n",
    "        # do time-freq analysis\n",
    "        timefreq_analysis()\n",
    "        \n",
    "        # go until previous ground zero\n",
    "    \n",
    "    "
   ]
  },
  {
   "cell_type": "code",
   "execution_count": 254,
   "metadata": {},
   "outputs": [],
   "source": [
    "from numpy.fft import fft, ifft\n",
    "from scipy import signal, fftpack"
   ]
  },
  {
   "cell_type": "code",
   "execution_count": null,
   "metadata": {},
   "outputs": [],
   "source": [
    "# autocorrelation "
   ]
  },
  {
   "cell_type": "code",
   "execution_count": 309,
   "metadata": {},
   "outputs": [
    {
     "data": {
      "text/plain": [
       "(3001,)"
      ]
     },
     "execution_count": 309,
     "metadata": {},
     "output_type": "execute_result"
    }
   ],
   "source": [
    "segment1 = data_sparse.loc[(idx_earthquake_df.iloc[0, 0] - 300000):idx_earthquake_df.iloc[0, 0]]\n",
    "signal = segment1.acoustic_data\n",
    "np.asarray(signal)\n",
    "signal.shape"
   ]
  },
  {
   "cell_type": "code",
   "execution_count": 310,
   "metadata": {},
   "outputs": [
    {
     "data": {
      "text/plain": [
       "array([12913.          +0.j        ,  -129.06604564 +36.345319j  ,\n",
       "         -84.05887626 -35.39386038j, ...,  -100.45425705-255.79960868j,\n",
       "         -84.05887626 +35.39386038j,  -129.06604564 -36.345319j  ])"
      ]
     },
     "execution_count": 310,
     "metadata": {},
     "output_type": "execute_result"
    }
   ],
   "source": [
    "signal_fft = fftpack.fft(signal)\n",
    "signal_fft"
   ]
  },
  {
   "cell_type": "code",
   "execution_count": 312,
   "metadata": {
    "scrolled": false
   },
   "outputs": [
    {
     "data": {
      "text/plain": [
       "(0, 600)"
      ]
     },
     "execution_count": 312,
     "metadata": {},
     "output_type": "execute_result"
    },
    {
     "data": {
      "image/png": "[encoded data removed]",
      "text/plain": [
       "<Figure size 432x288 with 1 Axes>"
      ]
     },
     "metadata": {
      "needs_background": "light"
     },
     "output_type": "display_data"
    }
   ],
   "source": [
    "plt.plot(np.abs(signal_fft))\n",
    "plt.ylim(0, 600)"
   ]
  },
  {
   "cell_type": "code",
   "execution_count": 246,
   "metadata": {},
   "outputs": [],
   "source": [
    "def timefreq_analysis():\n",
    "    pass"
   ]
  },
  {
   "cell_type": "code",
   "execution_count": null,
   "metadata": {},
   "outputs": [],
   "source": []
  },
  {
   "cell_type": "raw",
   "metadata": {},
   "source": [
    "data_sparse.loc[idx_earthquake]"
   ]
  },
  {
   "cell_type": "code",
   "execution_count": 133,
   "metadata": {},
   "outputs": [
    {
     "data": {
      "text/plain": [
       "{'ground_zero': []}"
      ]
     },
     "execution_count": 133,
     "metadata": {},
     "output_type": "execute_result"
    }
   ],
   "source": [
    "idx_earthquake = [0] + list(idx_eq)\n",
    "idx_earthquake_dict = {'ground_zero': []}\n",
    "idx_earthquake_dict"
   ]
  },
  {
   "cell_type": "code",
   "execution_count": 134,
   "metadata": {},
   "outputs": [
    {
     "data": {
      "text/plain": [
       "7"
      ]
     },
     "execution_count": 134,
     "metadata": {},
     "output_type": "execute_result"
    }
   ],
   "source": [
    "len(idx_eq)"
   ]
  },
  {
   "cell_type": "code",
   "execution_count": 135,
   "metadata": {},
   "outputs": [],
   "source": [
    "for i in range(len(idx_eq)):\n",
    "    idx_earthquake_dict[\"ground_zero\"].append(idx_eq[i])\n",
    "\n",
    "idx_earthquake_df = pd.DataFrame(data = idx_earthquake_dict)"
   ]
  },
  {
   "cell_type": "code",
   "execution_count": 136,
   "metadata": {},
   "outputs": [
    {
     "data": {
      "text/html": [
       "<div>\n",
       "<style scoped>\n",
       "    .dataframe tbody tr th:only-of-type {\n",
       "        vertical-align: middle;\n",
       "    }\n",
       "\n",
       "    .dataframe tbody tr th {\n",
       "        vertical-align: top;\n",
       "    }\n",
       "\n",
       "    .dataframe thead th {\n",
       "        text-align: right;\n",
       "    }\n",
       "</style>\n",
       "<table border=\"1\" class=\"dataframe\">\n",
       "  <thead>\n",
       "    <tr style=\"text-align: right;\">\n",
       "      <th></th>\n",
       "      <th>ground_zero</th>\n",
       "    </tr>\n",
       "  </thead>\n",
       "  <tbody>\n",
       "    <tr>\n",
       "      <th>0</th>\n",
       "      <td>5656600</td>\n",
       "    </tr>\n",
       "    <tr>\n",
       "      <th>1</th>\n",
       "      <td>50085900</td>\n",
       "    </tr>\n",
       "    <tr>\n",
       "      <th>2</th>\n",
       "      <td>104677400</td>\n",
       "    </tr>\n",
       "    <tr>\n",
       "      <th>3</th>\n",
       "      <td>138772500</td>\n",
       "    </tr>\n",
       "    <tr>\n",
       "      <th>4</th>\n",
       "      <td>187641850</td>\n",
       "    </tr>\n",
       "    <tr>\n",
       "      <th>5</th>\n",
       "      <td>218652650</td>\n",
       "    </tr>\n",
       "    <tr>\n",
       "      <th>6</th>\n",
       "      <td>245829600</td>\n",
       "    </tr>\n",
       "  </tbody>\n",
       "</table>\n",
       "</div>"
      ],
      "text/plain": [
       "   ground_zero\n",
       "0      5656600\n",
       "1     50085900\n",
       "2    104677400\n",
       "3    138772500\n",
       "4    187641850\n",
       "5    218652650\n",
       "6    245829600"
      ]
     },
     "execution_count": 136,
     "metadata": {},
     "output_type": "execute_result"
    }
   ],
   "source": [
    "idx_earthquake_df"
   ]
  },
  {
   "cell_type": "code",
   "execution_count": 76,
   "metadata": {},
   "outputs": [
    {
     "data": {
      "text/plain": [
       "5656600"
      ]
     },
     "execution_count": 76,
     "metadata": {},
     "output_type": "execute_result"
    }
   ],
   "source": [
    "location = idx_earthquake_df.iloc[0, 0]\n",
    "location"
   ]
  },
  {
   "cell_type": "code",
   "execution_count": 79,
   "metadata": {},
   "outputs": [
    {
     "data": {
      "text/plain": [
       "acoustic_data     8.0000000000\n",
       "time_to_failure   0.0007955051\n",
       "Name: 5656550, dtype: float64"
      ]
     },
     "execution_count": 79,
     "metadata": {},
     "output_type": "execute_result"
    }
   ],
   "source": [
    "data_sparse.loc[location - 50]"
   ]
  },
  {
   "cell_type": "code",
   "execution_count": 77,
   "metadata": {},
   "outputs": [
    {
     "data": {
      "text/plain": [
       "acoustic_data      2.0000000000\n",
       "time_to_failure   11.5407999580\n",
       "Name: 5656600, dtype: float64"
      ]
     },
     "execution_count": 77,
     "metadata": {},
     "output_type": "execute_result"
    }
   ],
   "source": [
    "data_sparse.loc[location]"
   ]
  },
  {
   "cell_type": "code",
   "execution_count": 78,
   "metadata": {},
   "outputs": [
    {
     "data": {
      "text/plain": [
       "acoustic_data      1.0000000000\n",
       "time_to_failure   11.5407999030\n",
       "Name: 5656650, dtype: float64"
      ]
     },
     "execution_count": 78,
     "metadata": {},
     "output_type": "execute_result"
    }
   ],
   "source": [
    "data_sparse.loc[location + 50]"
   ]
  },
  {
   "cell_type": "code",
   "execution_count": 41,
   "metadata": {},
   "outputs": [
    {
     "data": {
      "text/html": [
       "<div>\n",
       "<style scoped>\n",
       "    .dataframe tbody tr th:only-of-type {\n",
       "        vertical-align: middle;\n",
       "    }\n",
       "\n",
       "    .dataframe tbody tr th {\n",
       "        vertical-align: top;\n",
       "    }\n",
       "\n",
       "    .dataframe thead th {\n",
       "        text-align: right;\n",
       "    }\n",
       "</style>\n",
       "<table border=\"1\" class=\"dataframe\">\n",
       "  <thead>\n",
       "    <tr style=\"text-align: right;\">\n",
       "      <th></th>\n",
       "      <th>acoustic_data</th>\n",
       "      <th>time_to_failure</th>\n",
       "    </tr>\n",
       "  </thead>\n",
       "  <tbody>\n",
       "    <tr>\n",
       "      <th>0</th>\n",
       "      <td>12</td>\n",
       "      <td>1.4690999832</td>\n",
       "    </tr>\n",
       "    <tr>\n",
       "      <th>50</th>\n",
       "      <td>11</td>\n",
       "      <td>1.4690999282</td>\n",
       "    </tr>\n",
       "    <tr>\n",
       "      <th>100</th>\n",
       "      <td>-1</td>\n",
       "      <td>1.4690998732</td>\n",
       "    </tr>\n",
       "    <tr>\n",
       "      <th>150</th>\n",
       "      <td>3</td>\n",
       "      <td>1.4690998182</td>\n",
       "    </tr>\n",
       "    <tr>\n",
       "      <th>200</th>\n",
       "      <td>7</td>\n",
       "      <td>1.4690997632</td>\n",
       "    </tr>\n",
       "    <tr>\n",
       "      <th>250</th>\n",
       "      <td>7</td>\n",
       "      <td>1.4690997082</td>\n",
       "    </tr>\n",
       "    <tr>\n",
       "      <th>300</th>\n",
       "      <td>-4</td>\n",
       "      <td>1.4690996532</td>\n",
       "    </tr>\n",
       "    <tr>\n",
       "      <th>350</th>\n",
       "      <td>9</td>\n",
       "      <td>1.4690995982</td>\n",
       "    </tr>\n",
       "    <tr>\n",
       "      <th>400</th>\n",
       "      <td>9</td>\n",
       "      <td>1.4690995432</td>\n",
       "    </tr>\n",
       "    <tr>\n",
       "      <th>450</th>\n",
       "      <td>5</td>\n",
       "      <td>1.4690994882</td>\n",
       "    </tr>\n",
       "    <tr>\n",
       "      <th>500</th>\n",
       "      <td>0</td>\n",
       "      <td>1.4690994332</td>\n",
       "    </tr>\n",
       "    <tr>\n",
       "      <th>550</th>\n",
       "      <td>5</td>\n",
       "      <td>1.4690993782</td>\n",
       "    </tr>\n",
       "    <tr>\n",
       "      <th>600</th>\n",
       "      <td>7</td>\n",
       "      <td>1.4690993232</td>\n",
       "    </tr>\n",
       "    <tr>\n",
       "      <th>650</th>\n",
       "      <td>9</td>\n",
       "      <td>1.4690992682</td>\n",
       "    </tr>\n",
       "    <tr>\n",
       "      <th>700</th>\n",
       "      <td>4</td>\n",
       "      <td>1.4690992132</td>\n",
       "    </tr>\n",
       "    <tr>\n",
       "      <th>750</th>\n",
       "      <td>10</td>\n",
       "      <td>1.4690991582</td>\n",
       "    </tr>\n",
       "    <tr>\n",
       "      <th>800</th>\n",
       "      <td>11</td>\n",
       "      <td>1.4690991032</td>\n",
       "    </tr>\n",
       "    <tr>\n",
       "      <th>850</th>\n",
       "      <td>1</td>\n",
       "      <td>1.4690990482</td>\n",
       "    </tr>\n",
       "    <tr>\n",
       "      <th>900</th>\n",
       "      <td>11</td>\n",
       "      <td>1.4690989932</td>\n",
       "    </tr>\n",
       "    <tr>\n",
       "      <th>950</th>\n",
       "      <td>31</td>\n",
       "      <td>1.4690989382</td>\n",
       "    </tr>\n",
       "    <tr>\n",
       "      <th>1000</th>\n",
       "      <td>6</td>\n",
       "      <td>1.4690988832</td>\n",
       "    </tr>\n",
       "    <tr>\n",
       "      <th>1050</th>\n",
       "      <td>6</td>\n",
       "      <td>1.4690988282</td>\n",
       "    </tr>\n",
       "    <tr>\n",
       "      <th>1100</th>\n",
       "      <td>12</td>\n",
       "      <td>1.4690987732</td>\n",
       "    </tr>\n",
       "    <tr>\n",
       "      <th>1150</th>\n",
       "      <td>1</td>\n",
       "      <td>1.4690987182</td>\n",
       "    </tr>\n",
       "    <tr>\n",
       "      <th>1200</th>\n",
       "      <td>9</td>\n",
       "      <td>1.4690986632</td>\n",
       "    </tr>\n",
       "    <tr>\n",
       "      <th>1250</th>\n",
       "      <td>7</td>\n",
       "      <td>1.4690986082</td>\n",
       "    </tr>\n",
       "    <tr>\n",
       "      <th>1300</th>\n",
       "      <td>3</td>\n",
       "      <td>1.4690985532</td>\n",
       "    </tr>\n",
       "    <tr>\n",
       "      <th>1350</th>\n",
       "      <td>12</td>\n",
       "      <td>1.4690984982</td>\n",
       "    </tr>\n",
       "    <tr>\n",
       "      <th>1400</th>\n",
       "      <td>-3</td>\n",
       "      <td>1.4690984432</td>\n",
       "    </tr>\n",
       "    <tr>\n",
       "      <th>1450</th>\n",
       "      <td>10</td>\n",
       "      <td>1.4690983882</td>\n",
       "    </tr>\n",
       "    <tr>\n",
       "      <th>...</th>\n",
       "      <td>...</td>\n",
       "      <td>...</td>\n",
       "    </tr>\n",
       "    <tr>\n",
       "      <th>99998500</th>\n",
       "      <td>6</td>\n",
       "      <td>1.2158968304</td>\n",
       "    </tr>\n",
       "    <tr>\n",
       "      <th>99998550</th>\n",
       "      <td>8</td>\n",
       "      <td>1.2158967754</td>\n",
       "    </tr>\n",
       "    <tr>\n",
       "      <th>99998600</th>\n",
       "      <td>10</td>\n",
       "      <td>1.2158967204</td>\n",
       "    </tr>\n",
       "    <tr>\n",
       "      <th>99998650</th>\n",
       "      <td>3</td>\n",
       "      <td>1.2158966654</td>\n",
       "    </tr>\n",
       "    <tr>\n",
       "      <th>99998700</th>\n",
       "      <td>4</td>\n",
       "      <td>1.2158966104</td>\n",
       "    </tr>\n",
       "    <tr>\n",
       "      <th>99998750</th>\n",
       "      <td>3</td>\n",
       "      <td>1.2158965554</td>\n",
       "    </tr>\n",
       "    <tr>\n",
       "      <th>99998800</th>\n",
       "      <td>11</td>\n",
       "      <td>1.2158965004</td>\n",
       "    </tr>\n",
       "    <tr>\n",
       "      <th>99998850</th>\n",
       "      <td>-1</td>\n",
       "      <td>1.2158964454</td>\n",
       "    </tr>\n",
       "    <tr>\n",
       "      <th>99998900</th>\n",
       "      <td>1</td>\n",
       "      <td>1.2158963904</td>\n",
       "    </tr>\n",
       "    <tr>\n",
       "      <th>99998950</th>\n",
       "      <td>11</td>\n",
       "      <td>1.2158963354</td>\n",
       "    </tr>\n",
       "    <tr>\n",
       "      <th>99999000</th>\n",
       "      <td>6</td>\n",
       "      <td>1.2158962804</td>\n",
       "    </tr>\n",
       "    <tr>\n",
       "      <th>99999050</th>\n",
       "      <td>2</td>\n",
       "      <td>1.2158962254</td>\n",
       "    </tr>\n",
       "    <tr>\n",
       "      <th>99999100</th>\n",
       "      <td>4</td>\n",
       "      <td>1.2158961704</td>\n",
       "    </tr>\n",
       "    <tr>\n",
       "      <th>99999150</th>\n",
       "      <td>-9</td>\n",
       "      <td>1.2158961154</td>\n",
       "    </tr>\n",
       "    <tr>\n",
       "      <th>99999200</th>\n",
       "      <td>7</td>\n",
       "      <td>1.2158960604</td>\n",
       "    </tr>\n",
       "    <tr>\n",
       "      <th>99999250</th>\n",
       "      <td>3</td>\n",
       "      <td>1.2158960054</td>\n",
       "    </tr>\n",
       "    <tr>\n",
       "      <th>99999300</th>\n",
       "      <td>15</td>\n",
       "      <td>1.2158959504</td>\n",
       "    </tr>\n",
       "    <tr>\n",
       "      <th>99999350</th>\n",
       "      <td>1</td>\n",
       "      <td>1.2158958954</td>\n",
       "    </tr>\n",
       "    <tr>\n",
       "      <th>99999400</th>\n",
       "      <td>-6</td>\n",
       "      <td>1.2158958404</td>\n",
       "    </tr>\n",
       "    <tr>\n",
       "      <th>99999450</th>\n",
       "      <td>3</td>\n",
       "      <td>1.2158957854</td>\n",
       "    </tr>\n",
       "    <tr>\n",
       "      <th>99999500</th>\n",
       "      <td>4</td>\n",
       "      <td>1.2158957304</td>\n",
       "    </tr>\n",
       "    <tr>\n",
       "      <th>99999550</th>\n",
       "      <td>2</td>\n",
       "      <td>1.2158956754</td>\n",
       "    </tr>\n",
       "    <tr>\n",
       "      <th>99999600</th>\n",
       "      <td>12</td>\n",
       "      <td>1.2158956204</td>\n",
       "    </tr>\n",
       "    <tr>\n",
       "      <th>99999650</th>\n",
       "      <td>8</td>\n",
       "      <td>1.2158955654</td>\n",
       "    </tr>\n",
       "    <tr>\n",
       "      <th>99999700</th>\n",
       "      <td>4</td>\n",
       "      <td>1.2158955104</td>\n",
       "    </tr>\n",
       "    <tr>\n",
       "      <th>99999750</th>\n",
       "      <td>7</td>\n",
       "      <td>1.2147999610</td>\n",
       "    </tr>\n",
       "    <tr>\n",
       "      <th>99999800</th>\n",
       "      <td>6</td>\n",
       "      <td>1.2147999060</td>\n",
       "    </tr>\n",
       "    <tr>\n",
       "      <th>99999850</th>\n",
       "      <td>-2</td>\n",
       "      <td>1.2147998510</td>\n",
       "    </tr>\n",
       "    <tr>\n",
       "      <th>99999900</th>\n",
       "      <td>3</td>\n",
       "      <td>1.2147997960</td>\n",
       "    </tr>\n",
       "    <tr>\n",
       "      <th>99999950</th>\n",
       "      <td>2</td>\n",
       "      <td>1.2147997410</td>\n",
       "    </tr>\n",
       "  </tbody>\n",
       "</table>\n",
       "<p>2000000 rows × 2 columns</p>\n",
       "</div>"
      ],
      "text/plain": [
       "          acoustic_data  time_to_failure\n",
       "0                    12     1.4690999832\n",
       "50                   11     1.4690999282\n",
       "100                  -1     1.4690998732\n",
       "150                   3     1.4690998182\n",
       "200                   7     1.4690997632\n",
       "250                   7     1.4690997082\n",
       "300                  -4     1.4690996532\n",
       "350                   9     1.4690995982\n",
       "400                   9     1.4690995432\n",
       "450                   5     1.4690994882\n",
       "500                   0     1.4690994332\n",
       "550                   5     1.4690993782\n",
       "600                   7     1.4690993232\n",
       "650                   9     1.4690992682\n",
       "700                   4     1.4690992132\n",
       "750                  10     1.4690991582\n",
       "800                  11     1.4690991032\n",
       "850                   1     1.4690990482\n",
       "900                  11     1.4690989932\n",
       "950                  31     1.4690989382\n",
       "1000                  6     1.4690988832\n",
       "1050                  6     1.4690988282\n",
       "1100                 12     1.4690987732\n",
       "1150                  1     1.4690987182\n",
       "1200                  9     1.4690986632\n",
       "1250                  7     1.4690986082\n",
       "1300                  3     1.4690985532\n",
       "1350                 12     1.4690984982\n",
       "1400                 -3     1.4690984432\n",
       "1450                 10     1.4690983882\n",
       "...                 ...              ...\n",
       "99998500              6     1.2158968304\n",
       "99998550              8     1.2158967754\n",
       "99998600             10     1.2158967204\n",
       "99998650              3     1.2158966654\n",
       "99998700              4     1.2158966104\n",
       "99998750              3     1.2158965554\n",
       "99998800             11     1.2158965004\n",
       "99998850             -1     1.2158964454\n",
       "99998900              1     1.2158963904\n",
       "99998950             11     1.2158963354\n",
       "99999000              6     1.2158962804\n",
       "99999050              2     1.2158962254\n",
       "99999100              4     1.2158961704\n",
       "99999150             -9     1.2158961154\n",
       "99999200              7     1.2158960604\n",
       "99999250              3     1.2158960054\n",
       "99999300             15     1.2158959504\n",
       "99999350              1     1.2158958954\n",
       "99999400             -6     1.2158958404\n",
       "99999450              3     1.2158957854\n",
       "99999500              4     1.2158957304\n",
       "99999550              2     1.2158956754\n",
       "99999600             12     1.2158956204\n",
       "99999650              8     1.2158955654\n",
       "99999700              4     1.2158955104\n",
       "99999750              7     1.2147999610\n",
       "99999800              6     1.2147999060\n",
       "99999850             -2     1.2147998510\n",
       "99999900              3     1.2147997960\n",
       "99999950              2     1.2147997410\n",
       "\n",
       "[2000000 rows x 2 columns]"
      ]
     },
     "execution_count": 41,
     "metadata": {},
     "output_type": "execute_result"
    }
   ],
   "source": [
    "data_sparse"
   ]
  },
  {
   "cell_type": "code",
   "execution_count": null,
   "metadata": {},
   "outputs": [],
   "source": []
  },
  {
   "cell_type": "markdown",
   "metadata": {},
   "source": [
    "#### Sliding Window"
   ]
  },
  {
   "cell_type": "code",
   "execution_count": null,
   "metadata": {},
   "outputs": [],
   "source": [
    "# Sliding window definitions: \n",
    "win_length = 150\n",
    "signal_length = "
   ]
  },
  {
   "cell_type": "code",
   "execution_count": null,
   "metadata": {},
   "outputs": [],
   "source": [
    "def sliding_win(win_length):\n",
    "    \n",
    "    for i in range(signal_length, -1):\n",
    "        pass\n",
    "    \n",
    "    "
   ]
  },
  {
   "cell_type": "code",
   "execution_count": 56,
   "metadata": {},
   "outputs": [
    {
     "data": {
      "text/plain": [
       "init     5656600\n",
       "fin     50085899\n",
       "Name: 0, dtype: int64"
      ]
     },
     "execution_count": 56,
     "metadata": {},
     "output_type": "execute_result"
    }
   ],
   "source": [
    "idx_earthquake_df.iloc[0]"
   ]
  },
  {
   "cell_type": "code",
   "execution_count": 49,
   "metadata": {},
   "outputs": [
    {
     "name": "stdout",
     "output_type": "stream",
     "text": [
      "5656599\n",
      "4656599\n",
      "3656599\n",
      "2656599\n",
      "1656599\n",
      "656599\n"
     ]
    }
   ],
   "source": [
    "for i in range(ll2['fin'][0], ll2[\"init\"][0], -1000000):\n",
    "    print(i)"
   ]
  },
  {
   "cell_type": "code",
   "execution_count": null,
   "metadata": {},
   "outputs": [],
   "source": []
  },
  {
   "cell_type": "code",
   "execution_count": null,
   "metadata": {},
   "outputs": [],
   "source": []
  },
  {
   "cell_type": "code",
   "execution_count": null,
   "metadata": {},
   "outputs": [],
   "source": []
  }
 ],
 "metadata": {
  "kernelspec": {
   "display_name": "Python 3",
   "language": "python",
   "name": "python3"
  },
  "language_info": {
   "codemirror_mode": {
    "name": "ipython",
    "version": 3
   },
   "file_extension": ".py",
   "mimetype": "text/x-python",
   "name": "python",
   "nbconvert_exporter": "python",
   "pygments_lexer": "ipython3",
   "version": "3.6.8"
  }
 },
 "nbformat": 4,
 "nbformat_minor": 2
}
